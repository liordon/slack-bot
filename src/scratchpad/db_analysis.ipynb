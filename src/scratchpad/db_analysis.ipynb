{
 "cells": [
  {
   "metadata": {},
   "cell_type": "markdown",
   "source": "let's start by exploring our use cases",
   "id": "e6c0c0ae87973c57"
  },
  {
   "metadata": {
    "ExecuteTime": {
     "end_time": "2025-06-23T12:59:06.743586Z",
     "start_time": "2025-06-23T12:59:06.715158Z"
    }
   },
   "cell_type": "code",
   "source": [
    "import pandas as pd\n",
    "\n",
    "NEWLINE = '\\n'\n",
    "TAB = '\\t'\n",
    "db = pd.read_csv('../../resources/acme_security_tickets.csv')\n",
    "print(f\"db columns are:\\n\\t{(NEWLINE + TAB).join([str(c) for c in db.columns])}\")\n",
    "print(f\"possible resolutions:\\n\\t{(NEWLINE + TAB).join([str(c) for c in db['outcome'].drop_duplicates()])}\")\n",
    "print(f\"request types are: {(NEWLINE + TAB).join([str(c) for c in db['request_type'].drop_duplicates()])}\")\n",
    "print(f\"mandatory fields per request type:\")\n",
    "db[['request_type', 'mandatory_fields']].drop_duplicates().sort_values(['mandatory_fields'])"
   ],
   "id": "b7d730787d234a85",
   "outputs": [
    {
     "name": "stdout",
     "output_type": "stream",
     "text": [
      "db columns are:\n",
      "\tticket_id\n",
      "\tcreated_at\n",
      "\trequester_department\n",
      "\trequester_title\n",
      "\trequest_type\n",
      "\trequest_summary\n",
      "\tdetails\n",
      "\tmandatory_fields\n",
      "\tfields_provided\n",
      "\toutcome\n",
      "\tsecurity_risk_score\n",
      "\tresolution_time_hours\n",
      "\tapprover_role\n",
      "possible resolutions:\n",
      "\tApproved\n",
      "\tInfo Requested\n",
      "\tRejected\n",
      "request types are: Permission Change\n",
      "\tVendor Approval\n",
      "\tNetwork Access\n",
      "\tFirewall Change\n",
      "\tData Export\n",
      "\tCloud Resource Access\n",
      "\tDevTool Install\n",
      "mandatory fields per request type:\n"
     ]
    },
    {
     "data": {
      "text/plain": [
       "             request_type                                   mandatory_fields\n",
       "8   Cloud Resource Access     Business Justification; Data Sensitivity Level\n",
       "0       Permission Change  Business Justification; Duration; Manager Appr...\n",
       "7             Data Export  Business Justification; PII Involved; Data Des...\n",
       "3          Network Access  Business Justification; Source CIDR; Approval ...\n",
       "4         Firewall Change  Business Justification; Source System; Destina...\n",
       "14        DevTool Install         Business Justification; Team Lead Approval\n",
       "1         Vendor Approval  Vendor Security Questionnaire; Data Classifica..."
      ],
      "text/html": [
       "<div>\n",
       "<style scoped>\n",
       "    .dataframe tbody tr th:only-of-type {\n",
       "        vertical-align: middle;\n",
       "    }\n",
       "\n",
       "    .dataframe tbody tr th {\n",
       "        vertical-align: top;\n",
       "    }\n",
       "\n",
       "    .dataframe thead th {\n",
       "        text-align: right;\n",
       "    }\n",
       "</style>\n",
       "<table border=\"1\" class=\"dataframe\">\n",
       "  <thead>\n",
       "    <tr style=\"text-align: right;\">\n",
       "      <th></th>\n",
       "      <th>request_type</th>\n",
       "      <th>mandatory_fields</th>\n",
       "    </tr>\n",
       "  </thead>\n",
       "  <tbody>\n",
       "    <tr>\n",
       "      <th>8</th>\n",
       "      <td>Cloud Resource Access</td>\n",
       "      <td>Business Justification; Data Sensitivity Level</td>\n",
       "    </tr>\n",
       "    <tr>\n",
       "      <th>0</th>\n",
       "      <td>Permission Change</td>\n",
       "      <td>Business Justification; Duration; Manager Appr...</td>\n",
       "    </tr>\n",
       "    <tr>\n",
       "      <th>7</th>\n",
       "      <td>Data Export</td>\n",
       "      <td>Business Justification; PII Involved; Data Des...</td>\n",
       "    </tr>\n",
       "    <tr>\n",
       "      <th>3</th>\n",
       "      <td>Network Access</td>\n",
       "      <td>Business Justification; Source CIDR; Approval ...</td>\n",
       "    </tr>\n",
       "    <tr>\n",
       "      <th>4</th>\n",
       "      <td>Firewall Change</td>\n",
       "      <td>Business Justification; Source System; Destina...</td>\n",
       "    </tr>\n",
       "    <tr>\n",
       "      <th>14</th>\n",
       "      <td>DevTool Install</td>\n",
       "      <td>Business Justification; Team Lead Approval</td>\n",
       "    </tr>\n",
       "    <tr>\n",
       "      <th>1</th>\n",
       "      <td>Vendor Approval</td>\n",
       "      <td>Vendor Security Questionnaire; Data Classifica...</td>\n",
       "    </tr>\n",
       "  </tbody>\n",
       "</table>\n",
       "</div>"
      ]
     },
     "execution_count": 13,
     "metadata": {},
     "output_type": "execute_result"
    }
   ],
   "execution_count": 13
  },
  {
   "metadata": {},
   "cell_type": "markdown",
   "source": [
    "So we have only 7 unique request types with well-defined mandatory fields.\n",
    "we can start by defining a json structure for each, trying to fill it and see what happens.\n",
    "\n",
    "it seems like there are some important non-mandatory fields, like the specific premissions and buckets requested in cloud resources access and permissions change, but I'll get to that later."
   ],
   "id": "3780872eeeea7782"
  },
  {
   "metadata": {
    "ExecuteTime": {
     "end_time": "2025-06-23T13:01:22.623758Z",
     "start_time": "2025-06-23T13:01:22.603460Z"
    }
   },
   "cell_type": "code",
   "source": [
    "for group, subsection in db.groupby('request_type'):\n",
    "    print(\n",
    "        f\"{group} security risk is: ({subsection['security_risk_score'].mean(), subsection['security_risk_score'].std()})\"\n",
    "        )\n",
    "print('\\n')\n",
    "for group, subsection in db.groupby('outcome'):\n",
    "    print(\n",
    "        f\"{group} security risk is: ({subsection['security_risk_score'].mean(), subsection['security_risk_score'].std()})\"\n",
    "        )"
   ],
   "id": "c692714cfd154e14",
   "outputs": [
    {
     "name": "stdout",
     "output_type": "stream",
     "text": [
      "Cloud Resource Access security risk is: ((67.86764705882354, 9.876878216903702))\n",
      "Data Export security risk is: ((73.15, 9.132064625075031))\n",
      "DevTool Install security risk is: ((50.03731343283582, 11.184311458613662))\n",
      "Firewall Change security risk is: ((78.81645569620254, 8.096424159663567))\n",
      "Network Access security risk is: ((75.67114093959732, 8.559365783069456))\n",
      "Permission Change security risk is: ((83.15753424657534, 7.165711800112209))\n",
      "Vendor Approval security risk is: ((60.32846715328467, 12.303221415219994))\n",
      "\n",
      "\n",
      "Approved security risk is: ((69.74629324546952, 14.318681349105843))\n",
      "Info Requested security risk is: ((70.34666666666666, 13.732249926979957))\n",
      "Rejected security risk is: ((88.55555555555556, 2.202197357780265))\n"
     ]
    }
   ],
   "execution_count": 16
  },
  {
   "metadata": {
    "ExecuteTime": {
     "end_time": "2025-06-23T13:02:25.421276Z",
     "start_time": "2025-06-23T13:02:25.412109Z"
    }
   },
   "cell_type": "code",
   "source": "db[db['outcome'] == 'Rejected'][['details']]",
   "id": "6d6e2e4daaa50580",
   "outputs": [
    {
     "data": {
      "text/plain": [
       "                                               details\n",
       "257  Requesting temporary firewall rule to allow ou...\n",
       "405  Requesting AdministratorAccess role for AWS ac...\n",
       "424  Requesting temporary firewall rule to allow ou...\n",
       "440  Request to allow MySQL traffic from internal s...\n",
       "452  Requesting temporary firewall rule to allow ou...\n",
       "476  Requesting temporary firewall rule to allow ou...\n",
       "520  Requesting temporary firewall rule to allow ou...\n",
       "569  Request to allow MySQL traffic from internal s...\n",
       "570  Requesting temporary firewall rule to allow ou...\n",
       "642  Requesting AdministratorAccess role for AWS ac...\n",
       "660  Requesting temporary firewall rule to allow ou...\n",
       "736  Requesting AdministratorAccess role for AWS ac...\n",
       "833  Requesting AdministratorAccess role for AWS ac...\n",
       "838  Requesting AdministratorAccess role for AWS ac...\n",
       "914  Requesting temporary firewall rule to allow ou...\n",
       "918  Request to allow MySQL traffic from internal s...\n",
       "982  Requesting temporary firewall rule to allow ou...\n",
       "983  Requesting AdministratorAccess role for AWS ac..."
      ],
      "text/html": [
       "<div>\n",
       "<style scoped>\n",
       "    .dataframe tbody tr th:only-of-type {\n",
       "        vertical-align: middle;\n",
       "    }\n",
       "\n",
       "    .dataframe tbody tr th {\n",
       "        vertical-align: top;\n",
       "    }\n",
       "\n",
       "    .dataframe thead th {\n",
       "        text-align: right;\n",
       "    }\n",
       "</style>\n",
       "<table border=\"1\" class=\"dataframe\">\n",
       "  <thead>\n",
       "    <tr style=\"text-align: right;\">\n",
       "      <th></th>\n",
       "      <th>details</th>\n",
       "    </tr>\n",
       "  </thead>\n",
       "  <tbody>\n",
       "    <tr>\n",
       "      <th>257</th>\n",
       "      <td>Requesting temporary firewall rule to allow ou...</td>\n",
       "    </tr>\n",
       "    <tr>\n",
       "      <th>405</th>\n",
       "      <td>Requesting AdministratorAccess role for AWS ac...</td>\n",
       "    </tr>\n",
       "    <tr>\n",
       "      <th>424</th>\n",
       "      <td>Requesting temporary firewall rule to allow ou...</td>\n",
       "    </tr>\n",
       "    <tr>\n",
       "      <th>440</th>\n",
       "      <td>Request to allow MySQL traffic from internal s...</td>\n",
       "    </tr>\n",
       "    <tr>\n",
       "      <th>452</th>\n",
       "      <td>Requesting temporary firewall rule to allow ou...</td>\n",
       "    </tr>\n",
       "    <tr>\n",
       "      <th>476</th>\n",
       "      <td>Requesting temporary firewall rule to allow ou...</td>\n",
       "    </tr>\n",
       "    <tr>\n",
       "      <th>520</th>\n",
       "      <td>Requesting temporary firewall rule to allow ou...</td>\n",
       "    </tr>\n",
       "    <tr>\n",
       "      <th>569</th>\n",
       "      <td>Request to allow MySQL traffic from internal s...</td>\n",
       "    </tr>\n",
       "    <tr>\n",
       "      <th>570</th>\n",
       "      <td>Requesting temporary firewall rule to allow ou...</td>\n",
       "    </tr>\n",
       "    <tr>\n",
       "      <th>642</th>\n",
       "      <td>Requesting AdministratorAccess role for AWS ac...</td>\n",
       "    </tr>\n",
       "    <tr>\n",
       "      <th>660</th>\n",
       "      <td>Requesting temporary firewall rule to allow ou...</td>\n",
       "    </tr>\n",
       "    <tr>\n",
       "      <th>736</th>\n",
       "      <td>Requesting AdministratorAccess role for AWS ac...</td>\n",
       "    </tr>\n",
       "    <tr>\n",
       "      <th>833</th>\n",
       "      <td>Requesting AdministratorAccess role for AWS ac...</td>\n",
       "    </tr>\n",
       "    <tr>\n",
       "      <th>838</th>\n",
       "      <td>Requesting AdministratorAccess role for AWS ac...</td>\n",
       "    </tr>\n",
       "    <tr>\n",
       "      <th>914</th>\n",
       "      <td>Requesting temporary firewall rule to allow ou...</td>\n",
       "    </tr>\n",
       "    <tr>\n",
       "      <th>918</th>\n",
       "      <td>Request to allow MySQL traffic from internal s...</td>\n",
       "    </tr>\n",
       "    <tr>\n",
       "      <th>982</th>\n",
       "      <td>Requesting temporary firewall rule to allow ou...</td>\n",
       "    </tr>\n",
       "    <tr>\n",
       "      <th>983</th>\n",
       "      <td>Requesting AdministratorAccess role for AWS ac...</td>\n",
       "    </tr>\n",
       "  </tbody>\n",
       "</table>\n",
       "</div>"
      ]
     },
     "execution_count": 17,
     "metadata": {},
     "output_type": "execute_result"
    }
   ],
   "execution_count": 17
  },
  {
   "metadata": {
    "ExecuteTime": {
     "end_time": "2025-06-23T13:21:03.622301Z",
     "start_time": "2025-06-23T13:21:03.598231Z"
    }
   },
   "cell_type": "code",
   "source": "db[(db['request_type'] == 'Data Export')][['details', 'mandatory_fields', 'security_risk_score']]",
   "id": "557bcd682df16315",
   "outputs": [
    {
     "data": {
      "text/plain": [
       "                                               details  \\\n",
       "7    Request to export anonymized user event data (...   \n",
       "10   Request to export anonymized user event data (...   \n",
       "13   Request to export anonymized user event data (...   \n",
       "39   Request to export anonymized user event data (...   \n",
       "43   Request to export anonymized user event data (...   \n",
       "..                                                 ...   \n",
       "957  Request to export anonymized user event data (...   \n",
       "961  Request to export anonymized user event data (...   \n",
       "968  Request to export anonymized user event data (...   \n",
       "978  Request to export anonymized user event data (...   \n",
       "979  Request to export anonymized user event data (...   \n",
       "\n",
       "                                      mandatory_fields  security_risk_score  \n",
       "7    Business Justification; PII Involved; Data Des...                   70  \n",
       "10   Business Justification; PII Involved; Data Des...                   66  \n",
       "13   Business Justification; PII Involved; Data Des...                   87  \n",
       "39   Business Justification; PII Involved; Data Des...                   70  \n",
       "43   Business Justification; PII Involved; Data Des...                   65  \n",
       "..                                                 ...                  ...  \n",
       "957  Business Justification; PII Involved; Data Des...                   61  \n",
       "961  Business Justification; PII Involved; Data Des...                   61  \n",
       "968  Business Justification; PII Involved; Data Des...                   64  \n",
       "978  Business Justification; PII Involved; Data Des...                   64  \n",
       "979  Business Justification; PII Involved; Data Des...                   58  \n",
       "\n",
       "[140 rows x 3 columns]"
      ],
      "text/html": [
       "<div>\n",
       "<style scoped>\n",
       "    .dataframe tbody tr th:only-of-type {\n",
       "        vertical-align: middle;\n",
       "    }\n",
       "\n",
       "    .dataframe tbody tr th {\n",
       "        vertical-align: top;\n",
       "    }\n",
       "\n",
       "    .dataframe thead th {\n",
       "        text-align: right;\n",
       "    }\n",
       "</style>\n",
       "<table border=\"1\" class=\"dataframe\">\n",
       "  <thead>\n",
       "    <tr style=\"text-align: right;\">\n",
       "      <th></th>\n",
       "      <th>details</th>\n",
       "      <th>mandatory_fields</th>\n",
       "      <th>security_risk_score</th>\n",
       "    </tr>\n",
       "  </thead>\n",
       "  <tbody>\n",
       "    <tr>\n",
       "      <th>7</th>\n",
       "      <td>Request to export anonymized user event data (...</td>\n",
       "      <td>Business Justification; PII Involved; Data Des...</td>\n",
       "      <td>70</td>\n",
       "    </tr>\n",
       "    <tr>\n",
       "      <th>10</th>\n",
       "      <td>Request to export anonymized user event data (...</td>\n",
       "      <td>Business Justification; PII Involved; Data Des...</td>\n",
       "      <td>66</td>\n",
       "    </tr>\n",
       "    <tr>\n",
       "      <th>13</th>\n",
       "      <td>Request to export anonymized user event data (...</td>\n",
       "      <td>Business Justification; PII Involved; Data Des...</td>\n",
       "      <td>87</td>\n",
       "    </tr>\n",
       "    <tr>\n",
       "      <th>39</th>\n",
       "      <td>Request to export anonymized user event data (...</td>\n",
       "      <td>Business Justification; PII Involved; Data Des...</td>\n",
       "      <td>70</td>\n",
       "    </tr>\n",
       "    <tr>\n",
       "      <th>43</th>\n",
       "      <td>Request to export anonymized user event data (...</td>\n",
       "      <td>Business Justification; PII Involved; Data Des...</td>\n",
       "      <td>65</td>\n",
       "    </tr>\n",
       "    <tr>\n",
       "      <th>...</th>\n",
       "      <td>...</td>\n",
       "      <td>...</td>\n",
       "      <td>...</td>\n",
       "    </tr>\n",
       "    <tr>\n",
       "      <th>957</th>\n",
       "      <td>Request to export anonymized user event data (...</td>\n",
       "      <td>Business Justification; PII Involved; Data Des...</td>\n",
       "      <td>61</td>\n",
       "    </tr>\n",
       "    <tr>\n",
       "      <th>961</th>\n",
       "      <td>Request to export anonymized user event data (...</td>\n",
       "      <td>Business Justification; PII Involved; Data Des...</td>\n",
       "      <td>61</td>\n",
       "    </tr>\n",
       "    <tr>\n",
       "      <th>968</th>\n",
       "      <td>Request to export anonymized user event data (...</td>\n",
       "      <td>Business Justification; PII Involved; Data Des...</td>\n",
       "      <td>64</td>\n",
       "    </tr>\n",
       "    <tr>\n",
       "      <th>978</th>\n",
       "      <td>Request to export anonymized user event data (...</td>\n",
       "      <td>Business Justification; PII Involved; Data Des...</td>\n",
       "      <td>64</td>\n",
       "    </tr>\n",
       "    <tr>\n",
       "      <th>979</th>\n",
       "      <td>Request to export anonymized user event data (...</td>\n",
       "      <td>Business Justification; PII Involved; Data Des...</td>\n",
       "      <td>58</td>\n",
       "    </tr>\n",
       "  </tbody>\n",
       "</table>\n",
       "<p>140 rows × 3 columns</p>\n",
       "</div>"
      ]
     },
     "execution_count": 18,
     "metadata": {},
     "output_type": "execute_result"
    }
   ],
   "execution_count": 18
  },
  {
   "metadata": {
    "ExecuteTime": {
     "end_time": "2025-06-23T18:13:12.712871Z",
     "start_time": "2025-06-23T18:13:12.696916Z"
    }
   },
   "cell_type": "code",
   "source": [
    "passing_scores = db[db['outcome'] == 'Approved']['security_risk_score']\n",
    "failing_scores = db[db['outcome'] == 'Rejected']['security_risk_score']\n",
    "print(f\"overall a higher score is bad.\\npassing scores are within: ({passing_scores.min()}, {passing_scores.max()})\")\n",
    "print(f\"and failing scores are within: ({failing_scores.min()}, {failing_scores.max()})\")"
   ],
   "id": "15c11d37bcb39114",
   "outputs": [
    {
     "name": "stdout",
     "output_type": "stream",
     "text": [
      "overall a higher score is bad.\n",
      "passing scores are within: (30, 95)\n",
      "and failing scores are within: (85, 92)\n"
     ]
    }
   ],
   "execution_count": 22
  },
  {
   "metadata": {},
   "cell_type": "markdown",
   "source": "It seems like there's no real relevance to the security risk, so I'll just wing it and move on. if a request can be approved with a score of 95 and rejected with a score of 85, it means that everything between these values is up for personal grudges.",
   "id": "e3960e9c5bf731d7"
  },
  {
   "cell_type": "code",
   "id": "initial_id",
   "metadata": {
    "collapsed": true,
    "ExecuteTime": {
     "end_time": "2025-06-24T21:22:26.326749Z",
     "start_time": "2025-06-24T21:22:25.070064Z"
    }
   },
   "source": [
    "\n",
    "from transformers import (\n",
    "    AutoModelForCausalLM,\n",
    "    AutoTokenizer,\n",
    ")\n",
    "\n",
    "# model_name = \"google/gemma-2-9b-it\"\n",
    "model_name = \"mlfoundations-dev/S1_4o_mini\"\n",
    "tokenizer = AutoTokenizer.from_pretrained(model_name)\n",
    "model = AutoModelForCausalLM.from_pretrained(\n",
    "    model_name,\n",
    "    device_map=\"auto\",\n",
    ")\n",
    "model.eval()\n",
    "\n",
    "input_text = \"Write me a poem about Machine Learning.\"\n",
    "input_ids = tokenizer(input_text, return_tensors=\"pt\").to(\"cuda\")\n",
    "\n",
    "outputs = model.generate(**input_ids, max_new_tokens=32)\n",
    "print(tokenizer.decode(outputs[0]))"
   ],
   "outputs": [
    {
     "name": "stdout",
     "output_type": "stream",
     "text": [
      "Error importing huggingface_hub.hf_api: No module named 'requests.exceptions'; 'requests' is not a package\n"
     ]
    },
    {
     "ename": "ModuleNotFoundError",
     "evalue": "No module named 'requests.exceptions'; 'requests' is not a package",
     "output_type": "error",
     "traceback": [
      "\u001B[1;31m---------------------------------------------------------------------------\u001B[0m",
      "\u001B[1;31mModuleNotFoundError\u001B[0m                       Traceback (most recent call last)",
      "Cell \u001B[1;32mIn[23], line 1\u001B[0m\n\u001B[1;32m----> 1\u001B[0m \u001B[38;5;28;01mfrom\u001B[39;00m\u001B[38;5;250m \u001B[39m\u001B[38;5;21;01mtransformers\u001B[39;00m\u001B[38;5;250m \u001B[39m\u001B[38;5;28;01mimport\u001B[39;00m (\n\u001B[0;32m      2\u001B[0m     AutoModelForCausalLM,\n\u001B[0;32m      3\u001B[0m     AutoTokenizer,\n\u001B[0;32m      4\u001B[0m )\n\u001B[0;32m      6\u001B[0m \u001B[38;5;66;03m# model_name = \"google/gemma-2-9b-it\"\u001B[39;00m\n\u001B[0;32m      7\u001B[0m model_name \u001B[38;5;241m=\u001B[39m \u001B[38;5;124m\"\u001B[39m\u001B[38;5;124mmlfoundations-dev/S1_4o_mini\u001B[39m\u001B[38;5;124m\"\u001B[39m\n",
      "File \u001B[1;32mC:\\projects\\vyperbot\\.venv\\lib\\site-packages\\transformers\\__init__.py:27\u001B[0m\n\u001B[0;32m     24\u001B[0m \u001B[38;5;28;01mfrom\u001B[39;00m\u001B[38;5;250m \u001B[39m\u001B[38;5;21;01mtyping\u001B[39;00m\u001B[38;5;250m \u001B[39m\u001B[38;5;28;01mimport\u001B[39;00m TYPE_CHECKING\n\u001B[0;32m     26\u001B[0m \u001B[38;5;66;03m# Check the dependencies satisfy the minimal versions required.\u001B[39;00m\n\u001B[1;32m---> 27\u001B[0m \u001B[38;5;28;01mfrom\u001B[39;00m\u001B[38;5;250m \u001B[39m\u001B[38;5;21;01m.\u001B[39;00m\u001B[38;5;250m \u001B[39m\u001B[38;5;28;01mimport\u001B[39;00m dependency_versions_check\n\u001B[0;32m     28\u001B[0m \u001B[38;5;28;01mfrom\u001B[39;00m\u001B[38;5;250m \u001B[39m\u001B[38;5;21;01m.\u001B[39;00m\u001B[38;5;21;01mutils\u001B[39;00m\u001B[38;5;250m \u001B[39m\u001B[38;5;28;01mimport\u001B[39;00m (\n\u001B[0;32m     29\u001B[0m     OptionalDependencyNotAvailable,\n\u001B[0;32m     30\u001B[0m     _LazyModule,\n\u001B[1;32m   (...)\u001B[0m\n\u001B[0;32m     49\u001B[0m     logging,\n\u001B[0;32m     50\u001B[0m )\n\u001B[0;32m     51\u001B[0m \u001B[38;5;28;01mfrom\u001B[39;00m\u001B[38;5;250m \u001B[39m\u001B[38;5;21;01m.\u001B[39;00m\u001B[38;5;21;01mutils\u001B[39;00m\u001B[38;5;21;01m.\u001B[39;00m\u001B[38;5;21;01mimport_utils\u001B[39;00m\u001B[38;5;250m \u001B[39m\u001B[38;5;28;01mimport\u001B[39;00m define_import_structure\n",
      "File \u001B[1;32mC:\\projects\\vyperbot\\.venv\\lib\\site-packages\\transformers\\dependency_versions_check.py:16\u001B[0m\n\u001B[0;32m      1\u001B[0m \u001B[38;5;66;03m# Copyright 2020 The HuggingFace Team. All rights reserved.\u001B[39;00m\n\u001B[0;32m      2\u001B[0m \u001B[38;5;66;03m#\u001B[39;00m\n\u001B[0;32m      3\u001B[0m \u001B[38;5;66;03m# Licensed under the Apache License, Version 2.0 (the \"License\");\u001B[39;00m\n\u001B[1;32m   (...)\u001B[0m\n\u001B[0;32m     12\u001B[0m \u001B[38;5;66;03m# See the License for the specific language governing permissions and\u001B[39;00m\n\u001B[0;32m     13\u001B[0m \u001B[38;5;66;03m# limitations under the License.\u001B[39;00m\n\u001B[0;32m     15\u001B[0m \u001B[38;5;28;01mfrom\u001B[39;00m\u001B[38;5;250m \u001B[39m\u001B[38;5;21;01m.\u001B[39;00m\u001B[38;5;21;01mdependency_versions_table\u001B[39;00m\u001B[38;5;250m \u001B[39m\u001B[38;5;28;01mimport\u001B[39;00m deps\n\u001B[1;32m---> 16\u001B[0m \u001B[38;5;28;01mfrom\u001B[39;00m\u001B[38;5;250m \u001B[39m\u001B[38;5;21;01m.\u001B[39;00m\u001B[38;5;21;01mutils\u001B[39;00m\u001B[38;5;21;01m.\u001B[39;00m\u001B[38;5;21;01mversions\u001B[39;00m\u001B[38;5;250m \u001B[39m\u001B[38;5;28;01mimport\u001B[39;00m require_version, require_version_core\n\u001B[0;32m     19\u001B[0m \u001B[38;5;66;03m# define which module versions we always want to check at run time\u001B[39;00m\n\u001B[0;32m     20\u001B[0m \u001B[38;5;66;03m# (usually the ones defined in `install_requires` in setup.py)\u001B[39;00m\n\u001B[0;32m     21\u001B[0m \u001B[38;5;66;03m#\u001B[39;00m\n\u001B[0;32m     22\u001B[0m \u001B[38;5;66;03m# order specific notes:\u001B[39;00m\n\u001B[0;32m     23\u001B[0m \u001B[38;5;66;03m# - tqdm must be checked before tokenizers\u001B[39;00m\n\u001B[0;32m     25\u001B[0m pkgs_to_check_at_runtime \u001B[38;5;241m=\u001B[39m [\n\u001B[0;32m     26\u001B[0m     \u001B[38;5;124m\"\u001B[39m\u001B[38;5;124mpython\u001B[39m\u001B[38;5;124m\"\u001B[39m,\n\u001B[0;32m     27\u001B[0m     \u001B[38;5;124m\"\u001B[39m\u001B[38;5;124mtqdm\u001B[39m\u001B[38;5;124m\"\u001B[39m,\n\u001B[1;32m   (...)\u001B[0m\n\u001B[0;32m     37\u001B[0m     \u001B[38;5;124m\"\u001B[39m\u001B[38;5;124mpyyaml\u001B[39m\u001B[38;5;124m\"\u001B[39m,\n\u001B[0;32m     38\u001B[0m ]\n",
      "File \u001B[1;32mC:\\projects\\vyperbot\\.venv\\lib\\site-packages\\transformers\\utils\\__init__.py:19\u001B[0m\n\u001B[0;32m      1\u001B[0m \u001B[38;5;66;03m#!/usr/bin/env python\u001B[39;00m\n\u001B[0;32m      2\u001B[0m \n\u001B[0;32m      3\u001B[0m \u001B[38;5;66;03m# Copyright 2021 The HuggingFace Inc. team. All rights reserved.\u001B[39;00m\n\u001B[1;32m   (...)\u001B[0m\n\u001B[0;32m     14\u001B[0m \u001B[38;5;66;03m# See the License for the specific language governing permissions and\u001B[39;00m\n\u001B[0;32m     15\u001B[0m \u001B[38;5;66;03m# limitations under the License.\u001B[39;00m\n\u001B[0;32m     17\u001B[0m \u001B[38;5;28;01mfrom\u001B[39;00m\u001B[38;5;250m \u001B[39m\u001B[38;5;21;01mfunctools\u001B[39;00m\u001B[38;5;250m \u001B[39m\u001B[38;5;28;01mimport\u001B[39;00m lru_cache\n\u001B[1;32m---> 19\u001B[0m \u001B[38;5;28;01mfrom\u001B[39;00m\u001B[38;5;250m \u001B[39m\u001B[38;5;21;01mhuggingface_hub\u001B[39;00m\u001B[38;5;250m \u001B[39m\u001B[38;5;28;01mimport\u001B[39;00m get_full_repo_name  \u001B[38;5;66;03m# for backward compatibility\u001B[39;00m\n\u001B[0;32m     20\u001B[0m \u001B[38;5;28;01mfrom\u001B[39;00m\u001B[38;5;250m \u001B[39m\u001B[38;5;21;01mhuggingface_hub\u001B[39;00m\u001B[38;5;21;01m.\u001B[39;00m\u001B[38;5;21;01mconstants\u001B[39;00m\u001B[38;5;250m \u001B[39m\u001B[38;5;28;01mimport\u001B[39;00m HF_HUB_DISABLE_TELEMETRY \u001B[38;5;28;01mas\u001B[39;00m DISABLE_TELEMETRY  \u001B[38;5;66;03m# for backward compatibility\u001B[39;00m\n\u001B[0;32m     21\u001B[0m \u001B[38;5;28;01mfrom\u001B[39;00m\u001B[38;5;250m \u001B[39m\u001B[38;5;21;01mpackaging\u001B[39;00m\u001B[38;5;250m \u001B[39m\u001B[38;5;28;01mimport\u001B[39;00m version\n",
      "File \u001B[1;32mC:\\projects\\vyperbot\\.venv\\lib\\site-packages\\huggingface_hub\\__init__.py:998\u001B[0m, in \u001B[0;36m_attach.<locals>.__getattr__\u001B[1;34m(name)\u001B[0m\n\u001B[0;32m    996\u001B[0m submod_path \u001B[38;5;241m=\u001B[39m \u001B[38;5;124mf\u001B[39m\u001B[38;5;124m\"\u001B[39m\u001B[38;5;132;01m{\u001B[39;00mpackage_name\u001B[38;5;132;01m}\u001B[39;00m\u001B[38;5;124m.\u001B[39m\u001B[38;5;132;01m{\u001B[39;00mattr_to_modules[name]\u001B[38;5;132;01m}\u001B[39;00m\u001B[38;5;124m\"\u001B[39m\n\u001B[0;32m    997\u001B[0m \u001B[38;5;28;01mtry\u001B[39;00m:\n\u001B[1;32m--> 998\u001B[0m     submod \u001B[38;5;241m=\u001B[39m \u001B[43mimportlib\u001B[49m\u001B[38;5;241;43m.\u001B[39;49m\u001B[43mimport_module\u001B[49m\u001B[43m(\u001B[49m\u001B[43msubmod_path\u001B[49m\u001B[43m)\u001B[49m\n\u001B[0;32m    999\u001B[0m \u001B[38;5;28;01mexcept\u001B[39;00m \u001B[38;5;167;01mException\u001B[39;00m \u001B[38;5;28;01mas\u001B[39;00m e:\n\u001B[0;32m   1000\u001B[0m     \u001B[38;5;28mprint\u001B[39m(\u001B[38;5;124mf\u001B[39m\u001B[38;5;124m\"\u001B[39m\u001B[38;5;124mError importing \u001B[39m\u001B[38;5;132;01m{\u001B[39;00msubmod_path\u001B[38;5;132;01m}\u001B[39;00m\u001B[38;5;124m: \u001B[39m\u001B[38;5;132;01m{\u001B[39;00me\u001B[38;5;132;01m}\u001B[39;00m\u001B[38;5;124m\"\u001B[39m)\n",
      "File \u001B[1;32m~\\AppData\\Local\\Programs\\Python\\Python39\\lib\\importlib\\__init__.py:127\u001B[0m, in \u001B[0;36mimport_module\u001B[1;34m(name, package)\u001B[0m\n\u001B[0;32m    125\u001B[0m             \u001B[38;5;28;01mbreak\u001B[39;00m\n\u001B[0;32m    126\u001B[0m         level \u001B[38;5;241m+\u001B[39m\u001B[38;5;241m=\u001B[39m \u001B[38;5;241m1\u001B[39m\n\u001B[1;32m--> 127\u001B[0m \u001B[38;5;28;01mreturn\u001B[39;00m \u001B[43m_bootstrap\u001B[49m\u001B[38;5;241;43m.\u001B[39;49m\u001B[43m_gcd_import\u001B[49m\u001B[43m(\u001B[49m\u001B[43mname\u001B[49m\u001B[43m[\u001B[49m\u001B[43mlevel\u001B[49m\u001B[43m:\u001B[49m\u001B[43m]\u001B[49m\u001B[43m,\u001B[49m\u001B[43m \u001B[49m\u001B[43mpackage\u001B[49m\u001B[43m,\u001B[49m\u001B[43m \u001B[49m\u001B[43mlevel\u001B[49m\u001B[43m)\u001B[49m\n",
      "File \u001B[1;32mC:\\projects\\vyperbot\\.venv\\lib\\site-packages\\huggingface_hub\\hf_api.py:48\u001B[0m\n\u001B[0;32m     45\u001B[0m \u001B[38;5;28;01mfrom\u001B[39;00m\u001B[38;5;250m \u001B[39m\u001B[38;5;21;01murllib\u001B[39;00m\u001B[38;5;21;01m.\u001B[39;00m\u001B[38;5;21;01mparse\u001B[39;00m\u001B[38;5;250m \u001B[39m\u001B[38;5;28;01mimport\u001B[39;00m quote, unquote\n\u001B[0;32m     47\u001B[0m \u001B[38;5;28;01mimport\u001B[39;00m\u001B[38;5;250m \u001B[39m\u001B[38;5;21;01mrequests\u001B[39;00m\n\u001B[1;32m---> 48\u001B[0m \u001B[38;5;28;01mfrom\u001B[39;00m\u001B[38;5;250m \u001B[39m\u001B[38;5;21;01mrequests\u001B[39;00m\u001B[38;5;21;01m.\u001B[39;00m\u001B[38;5;21;01mexceptions\u001B[39;00m\u001B[38;5;250m \u001B[39m\u001B[38;5;28;01mimport\u001B[39;00m HTTPError\n\u001B[0;32m     49\u001B[0m \u001B[38;5;28;01mfrom\u001B[39;00m\u001B[38;5;250m \u001B[39m\u001B[38;5;21;01mtqdm\u001B[39;00m\u001B[38;5;21;01m.\u001B[39;00m\u001B[38;5;21;01mauto\u001B[39;00m\u001B[38;5;250m \u001B[39m\u001B[38;5;28;01mimport\u001B[39;00m tqdm \u001B[38;5;28;01mas\u001B[39;00m base_tqdm\n\u001B[0;32m     50\u001B[0m \u001B[38;5;28;01mfrom\u001B[39;00m\u001B[38;5;250m \u001B[39m\u001B[38;5;21;01mtqdm\u001B[39;00m\u001B[38;5;21;01m.\u001B[39;00m\u001B[38;5;21;01mcontrib\u001B[39;00m\u001B[38;5;21;01m.\u001B[39;00m\u001B[38;5;21;01mconcurrent\u001B[39;00m\u001B[38;5;250m \u001B[39m\u001B[38;5;28;01mimport\u001B[39;00m thread_map\n",
      "\u001B[1;31mModuleNotFoundError\u001B[0m: No module named 'requests.exceptions'; 'requests' is not a package"
     ]
    }
   ],
   "execution_count": 23
  }
 ],
 "metadata": {
  "kernelspec": {
   "display_name": "Python 3",
   "language": "python",
   "name": "python3"
  },
  "language_info": {
   "codemirror_mode": {
    "name": "ipython",
    "version": 2
   },
   "file_extension": ".py",
   "mimetype": "text/x-python",
   "name": "python",
   "nbconvert_exporter": "python",
   "pygments_lexer": "ipython2",
   "version": "2.7.6"
  }
 },
 "nbformat": 4,
 "nbformat_minor": 5
}
