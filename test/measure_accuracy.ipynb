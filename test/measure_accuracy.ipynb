{
 "cells": [
  {
   "cell_type": "code",
   "id": "initial_id",
   "metadata": {
    "collapsed": true,
    "ExecuteTime": {
     "end_time": "2025-06-22T14:41:32.232209Z",
     "start_time": "2025-06-22T14:41:31.883745Z"
    }
   },
   "source": [
    "import pandas as pd\n",
    "from src.regex_classifier import attempt_to_classify\n",
    "\n",
    "db = pd.read_csv('../resources/acme_security_tickets.csv')"
   ],
   "outputs": [
    {
     "name": "stdout",
     "output_type": "stream",
     "text": [
      "hit rate for type Cloud Resource Access: 100.00%\n",
      "hit rate for type Data Export: 100.00%\n",
      "hit rate for type DevTool Install: 100.00%\n",
      "hit rate for type Firewall Change: 100.00%\n",
      "hit rate for type Network Access: 100.00%\n",
      "hit rate for type Permission Change: 100.00%\n",
      "hit rate for type Vendor Approval: 100.00%\n"
     ]
    }
   ],
   "execution_count": 1
  },
  {
   "metadata": {},
   "cell_type": "markdown",
   "source": [
    "# regex performance on dataset\n",
    "starting simply, how well does a simple regex recognize and classify the requests that we're getting?"
   ],
   "id": "6b02787426a75215"
  },
  {
   "metadata": {
    "ExecuteTime": {
     "end_time": "2025-06-22T15:01:08.871321Z",
     "start_time": "2025-06-22T15:01:08.849025Z"
    }
   },
   "cell_type": "code",
   "source": [
    "db['regex_classification'] = db['details'].apply(attempt_to_classify).apply(lambda txt : txt.replace('_',' '))\n",
    "\n",
    "# print(db[['details', 'request_type', 'regex_classification']])\n",
    "\n",
    "requests_by_types = db.groupby('request_type')\n",
    "\n",
    "for request_type, requests in requests_by_types:\n",
    "    hit_rate = requests.apply(lambda row: row['request_type'].upper() == row['regex_classification'].upper(), axis=1).sum() / requests.shape[0]\n",
    "    print(f\"hit rate for type {request_type}: {hit_rate*100:.2f}%\")"
   ],
   "id": "204fd5c966f5754b",
   "outputs": [
    {
     "name": "stdout",
     "output_type": "stream",
     "text": [
      "hit rate for type Cloud Resource Access: 100.00%\n",
      "hit rate for type Data Export: 100.00%\n",
      "hit rate for type DevTool Install: 100.00%\n",
      "hit rate for type Firewall Change: 100.00%\n",
      "hit rate for type Network Access: 100.00%\n",
      "hit rate for type Permission Change: 100.00%\n",
      "hit rate for type Vendor Approval: 100.00%\n"
     ]
    }
   ],
   "execution_count": 2
  },
  {
   "metadata": {},
   "cell_type": "markdown",
   "source": [
    "is seems like using regex just to classify the requests is **highly accurate**, but I would guess that this indicates a data issue rather than real world performance.\n",
    "even so, I will try to move one and see how far I can go with just that simple stuff.\n",
    "\n",
    "let's start by examining every mandatory field and see how we extract it from the data."
   ],
   "id": "a33601a57ae748b4"
  },
  {
   "metadata": {
    "ExecuteTime": {
     "end_time": "2025-06-22T20:18:07.436364Z",
     "start_time": "2025-06-22T20:18:07.421042Z"
    }
   },
   "cell_type": "code",
   "source": "db[['request_type', 'mandatory_fields']].drop_duplicates().sort_values(by=['request_type'])",
   "id": "1a068e40df667c16",
   "outputs": [
    {
     "data": {
      "text/plain": [
       "             request_type                                   mandatory_fields\n",
       "8   Cloud Resource Access     Business Justification; Data Sensitivity Level\n",
       "7             Data Export  Business Justification; PII Involved; Data Des...\n",
       "14        DevTool Install         Business Justification; Team Lead Approval\n",
       "4         Firewall Change  Business Justification; Source System; Destina...\n",
       "3          Network Access  Business Justification; Source CIDR; Approval ...\n",
       "0       Permission Change  Business Justification; Duration; Manager Appr...\n",
       "1         Vendor Approval  Vendor Security Questionnaire; Data Classifica..."
      ],
      "text/html": [
       "<div>\n",
       "<style scoped>\n",
       "    .dataframe tbody tr th:only-of-type {\n",
       "        vertical-align: middle;\n",
       "    }\n",
       "\n",
       "    .dataframe tbody tr th {\n",
       "        vertical-align: top;\n",
       "    }\n",
       "\n",
       "    .dataframe thead th {\n",
       "        text-align: right;\n",
       "    }\n",
       "</style>\n",
       "<table border=\"1\" class=\"dataframe\">\n",
       "  <thead>\n",
       "    <tr style=\"text-align: right;\">\n",
       "      <th></th>\n",
       "      <th>request_type</th>\n",
       "      <th>mandatory_fields</th>\n",
       "    </tr>\n",
       "  </thead>\n",
       "  <tbody>\n",
       "    <tr>\n",
       "      <th>8</th>\n",
       "      <td>Cloud Resource Access</td>\n",
       "      <td>Business Justification; Data Sensitivity Level</td>\n",
       "    </tr>\n",
       "    <tr>\n",
       "      <th>7</th>\n",
       "      <td>Data Export</td>\n",
       "      <td>Business Justification; PII Involved; Data Des...</td>\n",
       "    </tr>\n",
       "    <tr>\n",
       "      <th>14</th>\n",
       "      <td>DevTool Install</td>\n",
       "      <td>Business Justification; Team Lead Approval</td>\n",
       "    </tr>\n",
       "    <tr>\n",
       "      <th>4</th>\n",
       "      <td>Firewall Change</td>\n",
       "      <td>Business Justification; Source System; Destina...</td>\n",
       "    </tr>\n",
       "    <tr>\n",
       "      <th>3</th>\n",
       "      <td>Network Access</td>\n",
       "      <td>Business Justification; Source CIDR; Approval ...</td>\n",
       "    </tr>\n",
       "    <tr>\n",
       "      <th>0</th>\n",
       "      <td>Permission Change</td>\n",
       "      <td>Business Justification; Duration; Manager Appr...</td>\n",
       "    </tr>\n",
       "    <tr>\n",
       "      <th>1</th>\n",
       "      <td>Vendor Approval</td>\n",
       "      <td>Vendor Security Questionnaire; Data Classifica...</td>\n",
       "    </tr>\n",
       "  </tbody>\n",
       "</table>\n",
       "</div>"
      ]
     },
     "execution_count": 13,
     "metadata": {},
     "output_type": "execute_result"
    }
   ],
   "execution_count": 13
  },
  {
   "metadata": {
    "ExecuteTime": {
     "end_time": "2025-06-22T20:41:14.163465Z",
     "start_time": "2025-06-22T20:41:14.140246Z"
    }
   },
   "cell_type": "code",
   "source": "db[(db['request_type'] == 'Data Export')][['details', 'fields_provided', 'outcome']]",
   "id": "fbceefd67fe5a914",
   "outputs": [
    {
     "data": {
      "text/plain": [
       "                                               details  \\\n",
       "7    Request to export anonymized user event data (...   \n",
       "10   Request to export anonymized user event data (...   \n",
       "13   Request to export anonymized user event data (...   \n",
       "39   Request to export anonymized user event data (...   \n",
       "43   Request to export anonymized user event data (...   \n",
       "..                                                 ...   \n",
       "957  Request to export anonymized user event data (...   \n",
       "961  Request to export anonymized user event data (...   \n",
       "968  Request to export anonymized user event data (...   \n",
       "978  Request to export anonymized user event data (...   \n",
       "979  Request to export anonymized user event data (...   \n",
       "\n",
       "                                       fields_provided         outcome  \n",
       "7             Business Justification; Data Destination  Info Requested  \n",
       "10            Business Justification; Data Destination  Info Requested  \n",
       "13                      PII Involved; Data Destination  Info Requested  \n",
       "39                                        PII Involved  Info Requested  \n",
       "43                Business Justification; PII Involved  Info Requested  \n",
       "..                                                 ...             ...  \n",
       "957                             Business Justification  Info Requested  \n",
       "961  Business Justification; PII Involved; Data Des...        Approved  \n",
       "968  Business Justification; PII Involved; Data Des...        Approved  \n",
       "978  Business Justification; PII Involved; Data Des...        Approved  \n",
       "979           Business Justification; Data Destination  Info Requested  \n",
       "\n",
       "[140 rows x 3 columns]"
      ],
      "text/html": [
       "<div>\n",
       "<style scoped>\n",
       "    .dataframe tbody tr th:only-of-type {\n",
       "        vertical-align: middle;\n",
       "    }\n",
       "\n",
       "    .dataframe tbody tr th {\n",
       "        vertical-align: top;\n",
       "    }\n",
       "\n",
       "    .dataframe thead th {\n",
       "        text-align: right;\n",
       "    }\n",
       "</style>\n",
       "<table border=\"1\" class=\"dataframe\">\n",
       "  <thead>\n",
       "    <tr style=\"text-align: right;\">\n",
       "      <th></th>\n",
       "      <th>details</th>\n",
       "      <th>fields_provided</th>\n",
       "      <th>outcome</th>\n",
       "    </tr>\n",
       "  </thead>\n",
       "  <tbody>\n",
       "    <tr>\n",
       "      <th>7</th>\n",
       "      <td>Request to export anonymized user event data (...</td>\n",
       "      <td>Business Justification; Data Destination</td>\n",
       "      <td>Info Requested</td>\n",
       "    </tr>\n",
       "    <tr>\n",
       "      <th>10</th>\n",
       "      <td>Request to export anonymized user event data (...</td>\n",
       "      <td>Business Justification; Data Destination</td>\n",
       "      <td>Info Requested</td>\n",
       "    </tr>\n",
       "    <tr>\n",
       "      <th>13</th>\n",
       "      <td>Request to export anonymized user event data (...</td>\n",
       "      <td>PII Involved; Data Destination</td>\n",
       "      <td>Info Requested</td>\n",
       "    </tr>\n",
       "    <tr>\n",
       "      <th>39</th>\n",
       "      <td>Request to export anonymized user event data (...</td>\n",
       "      <td>PII Involved</td>\n",
       "      <td>Info Requested</td>\n",
       "    </tr>\n",
       "    <tr>\n",
       "      <th>43</th>\n",
       "      <td>Request to export anonymized user event data (...</td>\n",
       "      <td>Business Justification; PII Involved</td>\n",
       "      <td>Info Requested</td>\n",
       "    </tr>\n",
       "    <tr>\n",
       "      <th>...</th>\n",
       "      <td>...</td>\n",
       "      <td>...</td>\n",
       "      <td>...</td>\n",
       "    </tr>\n",
       "    <tr>\n",
       "      <th>957</th>\n",
       "      <td>Request to export anonymized user event data (...</td>\n",
       "      <td>Business Justification</td>\n",
       "      <td>Info Requested</td>\n",
       "    </tr>\n",
       "    <tr>\n",
       "      <th>961</th>\n",
       "      <td>Request to export anonymized user event data (...</td>\n",
       "      <td>Business Justification; PII Involved; Data Des...</td>\n",
       "      <td>Approved</td>\n",
       "    </tr>\n",
       "    <tr>\n",
       "      <th>968</th>\n",
       "      <td>Request to export anonymized user event data (...</td>\n",
       "      <td>Business Justification; PII Involved; Data Des...</td>\n",
       "      <td>Approved</td>\n",
       "    </tr>\n",
       "    <tr>\n",
       "      <th>978</th>\n",
       "      <td>Request to export anonymized user event data (...</td>\n",
       "      <td>Business Justification; PII Involved; Data Des...</td>\n",
       "      <td>Approved</td>\n",
       "    </tr>\n",
       "    <tr>\n",
       "      <th>979</th>\n",
       "      <td>Request to export anonymized user event data (...</td>\n",
       "      <td>Business Justification; Data Destination</td>\n",
       "      <td>Info Requested</td>\n",
       "    </tr>\n",
       "  </tbody>\n",
       "</table>\n",
       "<p>140 rows × 3 columns</p>\n",
       "</div>"
      ]
     },
     "execution_count": 14,
     "metadata": {},
     "output_type": "execute_result"
    }
   ],
   "execution_count": 14
  }
 ],
 "metadata": {
  "kernelspec": {
   "display_name": "Python 3",
   "language": "python",
   "name": "python3"
  },
  "language_info": {
   "codemirror_mode": {
    "name": "ipython",
    "version": 2
   },
   "file_extension": ".py",
   "mimetype": "text/x-python",
   "name": "python",
   "nbconvert_exporter": "python",
   "pygments_lexer": "ipython2",
   "version": "2.7.6"
  }
 },
 "nbformat": 4,
 "nbformat_minor": 5
}
