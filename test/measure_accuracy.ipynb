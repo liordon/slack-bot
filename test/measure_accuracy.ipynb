{
 "cells": [
  {
   "cell_type": "code",
   "id": "initial_id",
   "metadata": {
    "collapsed": true,
    "ExecuteTime": {
     "end_time": "2025-06-23T13:20:08.867710Z",
     "start_time": "2025-06-23T13:20:08.530020Z"
    }
   },
   "source": [
    "import pandas as pd\n",
    "from src.parsing.regex_classifier import attempt_to_classify, construct_according_to_classification\n",
    "from tqdm import tqdm\n",
    "tqdm.pandas()\n",
    "\n",
    "db = pd.read_csv('../resources/acme_security_tickets.csv')"
   ],
   "outputs": [],
   "execution_count": 1
  },
  {
   "metadata": {},
   "cell_type": "markdown",
   "source": [
    "# regex performance on dataset\n",
    "starting simply, how well does a simple regex recognize and classify the requests that we're getting?"
   ],
   "id": "6b02787426a75215"
  },
  {
   "metadata": {
    "ExecuteTime": {
     "end_time": "2025-06-23T13:20:09.039944Z",
     "start_time": "2025-06-23T13:20:09.008946Z"
    }
   },
   "cell_type": "code",
   "source": [
    "db['regex_classification'] = db['details'].progress_apply(attempt_to_classify).apply(lambda txt : txt.replace('_',' '))\n",
    "\n",
    "requests_by_types = db.groupby('request_type')\n",
    "\n",
    "for request_type, requests in requests_by_types:\n",
    "    hit_rate = requests.apply(lambda row: row['request_type'].upper() == row['regex_classification'].upper(), axis=1).sum() / requests.shape[0]\n",
    "    print(f\"hit rate for type {request_type}: {hit_rate*100:.2f}%\")"
   ],
   "id": "204fd5c966f5754b",
   "outputs": [
    {
     "name": "stderr",
     "output_type": "stream",
     "text": [
      "100%|██████████| 1000/1000 [00:00<00:00, 142682.81it/s]"
     ]
    },
    {
     "name": "stdout",
     "output_type": "stream",
     "text": [
      "hit rate for type Cloud Resource Access: 100.00%\n",
      "hit rate for type Data Export: 100.00%\n",
      "hit rate for type DevTool Install: 100.00%\n",
      "hit rate for type Firewall Change: 100.00%\n",
      "hit rate for type Network Access: 100.00%\n",
      "hit rate for type Permission Change: 100.00%\n",
      "hit rate for type Vendor Approval: 100.00%\n"
     ]
    },
    {
     "name": "stderr",
     "output_type": "stream",
     "text": [
      "\n"
     ]
    }
   ],
   "execution_count": 2
  },
  {
   "metadata": {},
   "cell_type": "markdown",
   "source": [
    "is seems like using regex just to classify the requests is **highly accurate**, but I would guess that this indicates a data issue rather than real world performance.\n",
    "even so, I will try to move one and see how far I can go with just that simple stuff.\n",
    "\n",
    "let's start by examining every mandatory field and see how we extract it from the data."
   ],
   "id": "a33601a57ae748b4"
  },
  {
   "metadata": {
    "ExecuteTime": {
     "end_time": "2025-06-23T13:27:10.772888Z",
     "start_time": "2025-06-23T13:20:09.056968Z"
    }
   },
   "cell_type": "code",
   "source": [
    "db['regex_construction_validity'] = db['details'].progress_apply(\n",
    "    lambda txt: construct_according_to_classification(attempt_to_classify(txt), txt)\n",
    ").progress_apply(lambda req : req.is_valid())\n",
    "\n",
    "for request_type, requests in db.groupby('request_type'):\n",
    "    validity_rate = requests['regex_construction_validity'].sum() / requests.shape[0]\n",
    "    print(f\"hit rate for type {request_type}: {validity_rate*100:.2f}%\")\n",
    "\n",
    "db[['request_type', 'mandatory_fields']].drop_duplicates().sort_values(by=['request_type'])"
   ],
   "id": "1a068e40df667c16",
   "outputs": [
    {
     "name": "stderr",
     "output_type": "stream",
     "text": [
      "100%|██████████| 1000/1000 [07:01<00:00,  2.37it/s]\n",
      "100%|██████████| 1000/1000 [00:00<00:00, 998168.49it/s]"
     ]
    },
    {
     "name": "stdout",
     "output_type": "stream",
     "text": [
      "hit rate for type Cloud Resource Access: 100.00%\n",
      "hit rate for type Data Export: 0.00%\n",
      "hit rate for type DevTool Install: 0.00%\n",
      "hit rate for type Firewall Change: 100.00%\n",
      "hit rate for type Network Access: 0.00%\n",
      "hit rate for type Permission Change: 100.00%\n",
      "hit rate for type Vendor Approval: 100.00%\n"
     ]
    },
    {
     "name": "stderr",
     "output_type": "stream",
     "text": [
      "\n"
     ]
    },
    {
     "data": {
      "text/plain": [
       "             request_type                                   mandatory_fields\n",
       "8   Cloud Resource Access     Business Justification; Data Sensitivity Level\n",
       "7             Data Export  Business Justification; PII Involved; Data Des...\n",
       "14        DevTool Install         Business Justification; Team Lead Approval\n",
       "4         Firewall Change  Business Justification; Source System; Destina...\n",
       "3          Network Access  Business Justification; Source CIDR; Approval ...\n",
       "0       Permission Change  Business Justification; Duration; Manager Appr...\n",
       "1         Vendor Approval  Vendor Security Questionnaire; Data Classifica..."
      ],
      "text/html": [
       "<div>\n",
       "<style scoped>\n",
       "    .dataframe tbody tr th:only-of-type {\n",
       "        vertical-align: middle;\n",
       "    }\n",
       "\n",
       "    .dataframe tbody tr th {\n",
       "        vertical-align: top;\n",
       "    }\n",
       "\n",
       "    .dataframe thead th {\n",
       "        text-align: right;\n",
       "    }\n",
       "</style>\n",
       "<table border=\"1\" class=\"dataframe\">\n",
       "  <thead>\n",
       "    <tr style=\"text-align: right;\">\n",
       "      <th></th>\n",
       "      <th>request_type</th>\n",
       "      <th>mandatory_fields</th>\n",
       "    </tr>\n",
       "  </thead>\n",
       "  <tbody>\n",
       "    <tr>\n",
       "      <th>8</th>\n",
       "      <td>Cloud Resource Access</td>\n",
       "      <td>Business Justification; Data Sensitivity Level</td>\n",
       "    </tr>\n",
       "    <tr>\n",
       "      <th>7</th>\n",
       "      <td>Data Export</td>\n",
       "      <td>Business Justification; PII Involved; Data Des...</td>\n",
       "    </tr>\n",
       "    <tr>\n",
       "      <th>14</th>\n",
       "      <td>DevTool Install</td>\n",
       "      <td>Business Justification; Team Lead Approval</td>\n",
       "    </tr>\n",
       "    <tr>\n",
       "      <th>4</th>\n",
       "      <td>Firewall Change</td>\n",
       "      <td>Business Justification; Source System; Destina...</td>\n",
       "    </tr>\n",
       "    <tr>\n",
       "      <th>3</th>\n",
       "      <td>Network Access</td>\n",
       "      <td>Business Justification; Source CIDR; Approval ...</td>\n",
       "    </tr>\n",
       "    <tr>\n",
       "      <th>0</th>\n",
       "      <td>Permission Change</td>\n",
       "      <td>Business Justification; Duration; Manager Appr...</td>\n",
       "    </tr>\n",
       "    <tr>\n",
       "      <th>1</th>\n",
       "      <td>Vendor Approval</td>\n",
       "      <td>Vendor Security Questionnaire; Data Classifica...</td>\n",
       "    </tr>\n",
       "  </tbody>\n",
       "</table>\n",
       "</div>"
      ]
     },
     "execution_count": 3,
     "metadata": {},
     "output_type": "execute_result"
    }
   ],
   "execution_count": 3
  },
  {
   "metadata": {
    "ExecuteTime": {
     "end_time": "2025-06-23T13:27:10.851152Z",
     "start_time": "2025-06-23T13:27:10.837753Z"
    }
   },
   "cell_type": "code",
   "source": "db[(db['request_type'] == 'Data Export')][['details', 'mandatory_fields', 'security_risk_score']]",
   "id": "fbceefd67fe5a914",
   "outputs": [
    {
     "data": {
      "text/plain": [
       "                                               details  \\\n",
       "7    Request to export anonymized user event data (...   \n",
       "10   Request to export anonymized user event data (...   \n",
       "13   Request to export anonymized user event data (...   \n",
       "39   Request to export anonymized user event data (...   \n",
       "43   Request to export anonymized user event data (...   \n",
       "..                                                 ...   \n",
       "957  Request to export anonymized user event data (...   \n",
       "961  Request to export anonymized user event data (...   \n",
       "968  Request to export anonymized user event data (...   \n",
       "978  Request to export anonymized user event data (...   \n",
       "979  Request to export anonymized user event data (...   \n",
       "\n",
       "                                      mandatory_fields  security_risk_score  \n",
       "7    Business Justification; PII Involved; Data Des...                   70  \n",
       "10   Business Justification; PII Involved; Data Des...                   66  \n",
       "13   Business Justification; PII Involved; Data Des...                   87  \n",
       "39   Business Justification; PII Involved; Data Des...                   70  \n",
       "43   Business Justification; PII Involved; Data Des...                   65  \n",
       "..                                                 ...                  ...  \n",
       "957  Business Justification; PII Involved; Data Des...                   61  \n",
       "961  Business Justification; PII Involved; Data Des...                   61  \n",
       "968  Business Justification; PII Involved; Data Des...                   64  \n",
       "978  Business Justification; PII Involved; Data Des...                   64  \n",
       "979  Business Justification; PII Involved; Data Des...                   58  \n",
       "\n",
       "[140 rows x 3 columns]"
      ],
      "text/html": [
       "<div>\n",
       "<style scoped>\n",
       "    .dataframe tbody tr th:only-of-type {\n",
       "        vertical-align: middle;\n",
       "    }\n",
       "\n",
       "    .dataframe tbody tr th {\n",
       "        vertical-align: top;\n",
       "    }\n",
       "\n",
       "    .dataframe thead th {\n",
       "        text-align: right;\n",
       "    }\n",
       "</style>\n",
       "<table border=\"1\" class=\"dataframe\">\n",
       "  <thead>\n",
       "    <tr style=\"text-align: right;\">\n",
       "      <th></th>\n",
       "      <th>details</th>\n",
       "      <th>mandatory_fields</th>\n",
       "      <th>security_risk_score</th>\n",
       "    </tr>\n",
       "  </thead>\n",
       "  <tbody>\n",
       "    <tr>\n",
       "      <th>7</th>\n",
       "      <td>Request to export anonymized user event data (...</td>\n",
       "      <td>Business Justification; PII Involved; Data Des...</td>\n",
       "      <td>70</td>\n",
       "    </tr>\n",
       "    <tr>\n",
       "      <th>10</th>\n",
       "      <td>Request to export anonymized user event data (...</td>\n",
       "      <td>Business Justification; PII Involved; Data Des...</td>\n",
       "      <td>66</td>\n",
       "    </tr>\n",
       "    <tr>\n",
       "      <th>13</th>\n",
       "      <td>Request to export anonymized user event data (...</td>\n",
       "      <td>Business Justification; PII Involved; Data Des...</td>\n",
       "      <td>87</td>\n",
       "    </tr>\n",
       "    <tr>\n",
       "      <th>39</th>\n",
       "      <td>Request to export anonymized user event data (...</td>\n",
       "      <td>Business Justification; PII Involved; Data Des...</td>\n",
       "      <td>70</td>\n",
       "    </tr>\n",
       "    <tr>\n",
       "      <th>43</th>\n",
       "      <td>Request to export anonymized user event data (...</td>\n",
       "      <td>Business Justification; PII Involved; Data Des...</td>\n",
       "      <td>65</td>\n",
       "    </tr>\n",
       "    <tr>\n",
       "      <th>...</th>\n",
       "      <td>...</td>\n",
       "      <td>...</td>\n",
       "      <td>...</td>\n",
       "    </tr>\n",
       "    <tr>\n",
       "      <th>957</th>\n",
       "      <td>Request to export anonymized user event data (...</td>\n",
       "      <td>Business Justification; PII Involved; Data Des...</td>\n",
       "      <td>61</td>\n",
       "    </tr>\n",
       "    <tr>\n",
       "      <th>961</th>\n",
       "      <td>Request to export anonymized user event data (...</td>\n",
       "      <td>Business Justification; PII Involved; Data Des...</td>\n",
       "      <td>61</td>\n",
       "    </tr>\n",
       "    <tr>\n",
       "      <th>968</th>\n",
       "      <td>Request to export anonymized user event data (...</td>\n",
       "      <td>Business Justification; PII Involved; Data Des...</td>\n",
       "      <td>64</td>\n",
       "    </tr>\n",
       "    <tr>\n",
       "      <th>978</th>\n",
       "      <td>Request to export anonymized user event data (...</td>\n",
       "      <td>Business Justification; PII Involved; Data Des...</td>\n",
       "      <td>64</td>\n",
       "    </tr>\n",
       "    <tr>\n",
       "      <th>979</th>\n",
       "      <td>Request to export anonymized user event data (...</td>\n",
       "      <td>Business Justification; PII Involved; Data Des...</td>\n",
       "      <td>58</td>\n",
       "    </tr>\n",
       "  </tbody>\n",
       "</table>\n",
       "<p>140 rows × 3 columns</p>\n",
       "</div>"
      ]
     },
     "execution_count": 4,
     "metadata": {},
     "output_type": "execute_result"
    }
   ],
   "execution_count": 4
  }
 ],
 "metadata": {
  "kernelspec": {
   "display_name": "Python 3",
   "language": "python",
   "name": "python3"
  },
  "language_info": {
   "codemirror_mode": {
    "name": "ipython",
    "version": 2
   },
   "file_extension": ".py",
   "mimetype": "text/x-python",
   "name": "python",
   "nbconvert_exporter": "python",
   "pygments_lexer": "ipython2",
   "version": "2.7.6"
  }
 },
 "nbformat": 4,
 "nbformat_minor": 5
}
