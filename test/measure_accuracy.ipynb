{
 "cells": [
  {
   "cell_type": "code",
   "id": "initial_id",
   "metadata": {
    "collapsed": true,
    "ExecuteTime": {
     "end_time": "2025-06-25T11:30:00.715670Z",
     "start_time": "2025-06-25T11:30:00.327746Z"
    }
   },
   "source": [
    "import pandas as pd\n",
    "from tqdm import tqdm\n",
    "\n",
    "from src.parsing.regex_classifier import attempt_to_classify, construct_according_to_classification\n",
    "\n",
    "tqdm.pandas()\n",
    "\n",
    "db = pd.read_csv('../resources/acme_security_tickets.csv')"
   ],
   "outputs": [],
   "execution_count": 1
  },
  {
   "metadata": {},
   "cell_type": "markdown",
   "source": [
    "# regex performance on dataset\n",
    "starting simply, how well does a simple regex recognize and classify the requests that we're getting?"
   ],
   "id": "6b02787426a75215"
  },
  {
   "metadata": {
    "ExecuteTime": {
     "end_time": "2025-06-25T11:30:00.910388Z",
     "start_time": "2025-06-25T11:30:00.859050Z"
    }
   },
   "cell_type": "code",
   "source": [
    "db['regex_classification'] = db['details'].progress_apply(attempt_to_classify).apply(lambda txt: txt.replace('_', ' '))\n",
    "\n",
    "requests_by_types = db.groupby('request_type')\n",
    "\n",
    "for request_type, requests in requests_by_types:\n",
    "    hit_rate = requests.apply(\n",
    "        lambda row: row['request_type'].upper() == row['regex_classification'].upper(), axis=1\n",
    "    ).sum() / requests.shape[0]\n",
    "    print(f\"hit rate for type {request_type}: {hit_rate * 100:.2f}%\")"
   ],
   "id": "204fd5c966f5754b",
   "outputs": [
    {
     "name": "stderr",
     "output_type": "stream",
     "text": [
      "100%|██████████| 1000/1000 [00:00<00:00, 98052.74it/s]"
     ]
    },
    {
     "name": "stdout",
     "output_type": "stream",
     "text": [
      "hit rate for type Cloud Resource Access: 100.00%\n",
      "hit rate for type Data Export: 100.00%\n",
      "hit rate for type DevTool Install: 100.00%\n",
      "hit rate for type Firewall Change: 100.00%\n",
      "hit rate for type Network Access: 100.00%\n",
      "hit rate for type Permission Change: 100.00%\n",
      "hit rate for type Vendor Approval: 100.00%\n"
     ]
    },
    {
     "name": "stderr",
     "output_type": "stream",
     "text": [
      "\n"
     ]
    }
   ],
   "execution_count": 2
  },
  {
   "metadata": {},
   "cell_type": "markdown",
   "source": [
    "is seems like using regex just to classify the requests is **highly accurate**, but I would guess that this indicates a data issue rather than real world performance.\n",
    "even so, I will try to move one and see how far I can go with just that simple stuff.\n",
    "\n",
    "let's start by examining every mandatory field and see how we extract it from the data."
   ],
   "id": "a33601a57ae748b4"
  },
  {
   "metadata": {
    "ExecuteTime": {
     "end_time": "2025-06-25T11:36:59.058051Z",
     "start_time": "2025-06-25T11:30:00.932939Z"
    }
   },
   "cell_type": "code",
   "source": [
    "db['regex_construction_validity'] = db['details'].progress_apply(\n",
    "    lambda txt: construct_according_to_classification(attempt_to_classify(txt), txt)\n",
    ").progress_apply(lambda req: req.is_valid())\n",
    "\n",
    "for request_type, requests in db.groupby('request_type'):\n",
    "    validity_rate = requests['regex_construction_validity'].sum() / requests.shape[0]\n",
    "    print(f\"successful construction rate for type {request_type}: {validity_rate * 100:.2f}%\")\n",
    "\n",
    "db[['request_type', 'mandatory_fields']].drop_duplicates().sort_values(by=['request_type'])"
   ],
   "id": "1a068e40df667c16",
   "outputs": [
    {
     "name": "stderr",
     "output_type": "stream",
     "text": [
      "100%|██████████| 1000/1000 [06:58<00:00,  2.39it/s]\n",
      "100%|██████████| 1000/1000 [00:00<00:00, 657723.69it/s]"
     ]
    },
    {
     "name": "stdout",
     "output_type": "stream",
     "text": [
      "hit rate for type Cloud Resource Access: 100.00%\n",
      "hit rate for type Data Export: 0.00%\n",
      "hit rate for type DevTool Install: 0.00%\n",
      "hit rate for type Firewall Change: 100.00%\n",
      "hit rate for type Network Access: 0.00%\n",
      "hit rate for type Permission Change: 100.00%\n",
      "hit rate for type Vendor Approval: 100.00%\n"
     ]
    },
    {
     "name": "stderr",
     "output_type": "stream",
     "text": [
      "\n"
     ]
    },
    {
     "data": {
      "text/plain": [
       "             request_type                                   mandatory_fields\n",
       "8   Cloud Resource Access     Business Justification; Data Sensitivity Level\n",
       "7             Data Export  Business Justification; PII Involved; Data Des...\n",
       "14        DevTool Install         Business Justification; Team Lead Approval\n",
       "4         Firewall Change  Business Justification; Source System; Destina...\n",
       "3          Network Access  Business Justification; Source CIDR; Approval ...\n",
       "0       Permission Change  Business Justification; Duration; Manager Appr...\n",
       "1         Vendor Approval  Vendor Security Questionnaire; Data Classifica..."
      ],
      "text/html": [
       "<div>\n",
       "<style scoped>\n",
       "    .dataframe tbody tr th:only-of-type {\n",
       "        vertical-align: middle;\n",
       "    }\n",
       "\n",
       "    .dataframe tbody tr th {\n",
       "        vertical-align: top;\n",
       "    }\n",
       "\n",
       "    .dataframe thead th {\n",
       "        text-align: right;\n",
       "    }\n",
       "</style>\n",
       "<table border=\"1\" class=\"dataframe\">\n",
       "  <thead>\n",
       "    <tr style=\"text-align: right;\">\n",
       "      <th></th>\n",
       "      <th>request_type</th>\n",
       "      <th>mandatory_fields</th>\n",
       "    </tr>\n",
       "  </thead>\n",
       "  <tbody>\n",
       "    <tr>\n",
       "      <th>8</th>\n",
       "      <td>Cloud Resource Access</td>\n",
       "      <td>Business Justification; Data Sensitivity Level</td>\n",
       "    </tr>\n",
       "    <tr>\n",
       "      <th>7</th>\n",
       "      <td>Data Export</td>\n",
       "      <td>Business Justification; PII Involved; Data Des...</td>\n",
       "    </tr>\n",
       "    <tr>\n",
       "      <th>14</th>\n",
       "      <td>DevTool Install</td>\n",
       "      <td>Business Justification; Team Lead Approval</td>\n",
       "    </tr>\n",
       "    <tr>\n",
       "      <th>4</th>\n",
       "      <td>Firewall Change</td>\n",
       "      <td>Business Justification; Source System; Destina...</td>\n",
       "    </tr>\n",
       "    <tr>\n",
       "      <th>3</th>\n",
       "      <td>Network Access</td>\n",
       "      <td>Business Justification; Source CIDR; Approval ...</td>\n",
       "    </tr>\n",
       "    <tr>\n",
       "      <th>0</th>\n",
       "      <td>Permission Change</td>\n",
       "      <td>Business Justification; Duration; Manager Appr...</td>\n",
       "    </tr>\n",
       "    <tr>\n",
       "      <th>1</th>\n",
       "      <td>Vendor Approval</td>\n",
       "      <td>Vendor Security Questionnaire; Data Classifica...</td>\n",
       "    </tr>\n",
       "  </tbody>\n",
       "</table>\n",
       "</div>"
      ]
     },
     "execution_count": 3,
     "metadata": {},
     "output_type": "execute_result"
    }
   ],
   "execution_count": 3
  },
  {
   "metadata": {},
   "cell_type": "code",
   "source": "db[(db['request_type'] == 'Data Export')][['details', 'mandatory_fields', 'security_risk_score']]",
   "id": "fbceefd67fe5a914",
   "outputs": [],
   "execution_count": null
  }
 ],
 "metadata": {
  "kernelspec": {
   "display_name": "Python 3",
   "language": "python",
   "name": "python3"
  },
  "language_info": {
   "codemirror_mode": {
    "name": "ipython",
    "version": 2
   },
   "file_extension": ".py",
   "mimetype": "text/x-python",
   "name": "python",
   "nbconvert_exporter": "python",
   "pygments_lexer": "ipython2",
   "version": "2.7.6"
  }
 },
 "nbformat": 4,
 "nbformat_minor": 5
}
